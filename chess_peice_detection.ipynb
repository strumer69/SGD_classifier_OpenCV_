{
  "cells": [
    {
      "cell_type": "markdown",
      "metadata": {
        "id": "view-in-github",
        "colab_type": "text"
      },
      "source": [
        "<a href=\"https://colab.research.google.com/github/strumer69/SGD_classifier_OpenCV_/blob/main/chess_peice_detection.ipynb\" target=\"_parent\"><img src=\"https://colab.research.google.com/assets/colab-badge.svg\" alt=\"Open In Colab\"/></a>"
      ]
    },
    {
      "cell_type": "markdown",
      "source": [
        "# chess peice detection (generate fen)\n",
        "* this code generates fen code according to location of chess peices and by the use of SGDClassifier machine learning model.\n",
        "* the method is the same as the famous MNIST problem\n",
        "* fen means the codes which represents the exact peices of chess in each team. for axample R represent white rook, q means the black queen and etc.\n",
        "* more info about fen: [fen_wiki](https://en.wikipedia.org/wiki/Forsyth%E2%80%93Edwards_Notation)\n",
        "\n",
        "* the training data contains 18k chess board ( [G_drive](https://drive.google.com/file/d/1LQw3tHxbDzXJuZjcwJrwcJHzsYsp9ZfH/view?usp=share_link))\n",
        "* the data for trainig the mode(60k-peice)( [G_drive](https://drive.google.com/file/d/1Elel68b2BhUqOxyytonA8iJeA-VL84sJ/view?usp=sharing) )\n",
        "* the test data (the answers should be checked visually)( [G_Drive](https://drive.google.com/file/d/1Af65xO6ygKiX4TYeUpXbacGjDEvI6OZJ/view?usp=share_link))"
      ],
      "metadata": {
        "id": "6IAhEtUGUCO-"
      },
      "id": "6IAhEtUGUCO-"
    },
    {
      "cell_type": "markdown",
      "source": [
        "# import libraries"
      ],
      "metadata": {
        "id": "znjh43XhUZ41"
      },
      "id": "znjh43XhUZ41"
    },
    {
      "cell_type": "code",
      "execution_count": null,
      "id": "2edca30b",
      "metadata": {
        "id": "2edca30b"
      },
      "outputs": [],
      "source": [
        "import cv2\n",
        "import numpy as np\n",
        "import pandas as pd\n",
        "import glob\n",
        "import os\n",
        "import re\n",
        "from tqdm import tqdm\n",
        "import matplotlib as mpl\n",
        "import matplotlib.pyplot as plt"
      ]
    },
    {
      "cell_type": "markdown",
      "source": [
        "# Introduction of the folder which contains images"
      ],
      "metadata": {
        "id": "CsLI40lmUugs"
      },
      "id": "CsLI40lmUugs"
    },
    {
      "cell_type": "code",
      "execution_count": null,
      "id": "d0ed1cea",
      "metadata": {
        "id": "d0ed1cea"
      },
      "outputs": [],
      "source": [
        "CHESS_BOARD_DIR = glob.glob('train/*.*')\n",
        "CHESS_BOARD = []"
      ]
    },
    {
      "cell_type": "markdown",
      "source": [
        "# define a function to normalize fen code\n"
      ],
      "metadata": {
        "id": "G5YIgiz4U8y1"
      },
      "id": "G5YIgiz4U8y1"
    },
    {
      "cell_type": "code",
      "execution_count": null,
      "id": "dbdb632b",
      "metadata": {
        "id": "dbdb632b"
      },
      "outputs": [],
      "source": [
        "def normalizeBoardName(boardName):\n",
        "    mine_code=[]\n",
        "    longName=boardName.split('-')\n",
        "    for word in longName:\n",
        "        for letter in word:\n",
        "            if letter.isnumeric():\n",
        "                for i in range(int(letter)):\n",
        "                    mine_code.append(str(0))\n",
        "            else:\n",
        "                mine_code.append(letter)\n",
        "                \n",
        "    return mine_code"
      ]
    },
    {
      "cell_type": "markdown",
      "source": [
        "# creation of 60000 images from chess board\n",
        "each board contains 64 square that at most 32 peices exist in game"
      ],
      "metadata": {
        "id": "3_2Y352XVW2H"
      },
      "id": "3_2Y352XVW2H"
    },
    {
      "cell_type": "code",
      "execution_count": null,
      "id": "b30bd3e1",
      "metadata": {
        "id": "b30bd3e1"
      },
      "outputs": [],
      "source": [
        "\n",
        "df = pd.DataFrame()\n",
        "points=[5,19,  20,34,  35,49,  50,64,  64,78,  79,93,  94,108,  109,123]\n",
        "my_counter=0\n",
        "for idx, path in enumerate(CHESS_BOARD_DIR):\n",
        "    my_counter_local=0\n",
        "    if idx==1000:\n",
        "        break\n",
        "    \n",
        "    image = cv2.imread(path)\n",
        "    image = cv2.cvtColor(image, cv2.COLOR_BGR2GRAY)\n",
        "    CHESS_BOARD = [path[6:-4], image]\n",
        "    PEACE_CODES=normalizeBoardName(CHESS_BOARD[0])\n",
        "    #--------------------------------------------\n",
        "    \n",
        "    for j in range(0,len(points) , 2):# columns\n",
        "        \n",
        "        for i in range (0,len(points) , 2):# rows\n",
        "            for board in CHESS_BOARD:\n",
        "                img_small = CHESS_BOARD[1]\n",
        "                img_small=img_small[points[j]:points[j+1],points[i]:points[i+1]] #first col , then row\n",
        "                \n",
        "#         cv2.imshow('s', img_small)\n",
        "#         cv2.waitKey(0)\n",
        "#         cv2.destroyAllWindows()\n",
        "#         print(type(img_small))\n",
        "\n",
        "\n",
        "            img_small = img_small.reshape(14*14)\n",
        "            img_small=np.append(img_small,PEACE_CODES[my_counter_local])\n",
        "            df[my_counter]=img_small\n",
        "            my_counter+=1\n",
        "            my_counter_local+=1\n",
        "\n"
      ]
    },
    {
      "cell_type": "markdown",
      "source": [
        "# save the 60k images in a excel file"
      ],
      "metadata": {
        "id": "tOUmnRHMWAwS"
      },
      "id": "tOUmnRHMWAwS"
    },
    {
      "cell_type": "code",
      "execution_count": null,
      "id": "3f09c059",
      "metadata": {
        "id": "3f09c059"
      },
      "outputs": [],
      "source": [
        "# df=df.T\n",
        "# df.head()\n",
        "df.to_csv('all_images2.csv', sep=',')"
      ]
    },
    {
      "cell_type": "markdown",
      "source": [
        "# reading the data from directory"
      ],
      "metadata": {
        "id": "VkX-xnkbWMG4"
      },
      "id": "VkX-xnkbWMG4"
    },
    {
      "cell_type": "code",
      "execution_count": null,
      "id": "8e59dd1c",
      "metadata": {
        "id": "8e59dd1c"
      },
      "outputs": [],
      "source": [
        "df_1=pd.read_csv('all_images2.csv')\n"
      ]
    },
    {
      "cell_type": "markdown",
      "source": [
        "# EDA (Exploratory Data Analysis) and Data Cleaning"
      ],
      "metadata": {
        "id": "rWfYK_sVWSyn"
      },
      "id": "rWfYK_sVWSyn"
    },
    {
      "cell_type": "code",
      "execution_count": null,
      "id": "5033cd1a",
      "metadata": {
        "id": "5033cd1a"
      },
      "outputs": [],
      "source": [
        "df_1.shape"
      ]
    },
    {
      "cell_type": "code",
      "execution_count": null,
      "id": "eb1151e1",
      "metadata": {
        "id": "eb1151e1"
      },
      "outputs": [],
      "source": [
        "df_1.head()"
      ]
    },
    {
      "cell_type": "code",
      "execution_count": null,
      "id": "ba7576e7",
      "metadata": {
        "id": "ba7576e7"
      },
      "outputs": [],
      "source": [
        "df_1= df_1.drop('Unnamed: 0',axis=1)\n"
      ]
    },
    {
      "cell_type": "code",
      "execution_count": null,
      "id": "a03a2eba",
      "metadata": {
        "id": "a03a2eba"
      },
      "outputs": [],
      "source": [
        "df_1.head()"
      ]
    },
    {
      "cell_type": "code",
      "execution_count": null,
      "id": "ced26a28",
      "metadata": {
        "id": "ced26a28"
      },
      "outputs": [],
      "source": [
        "df_1.shape"
      ]
    },
    {
      "cell_type": "code",
      "execution_count": null,
      "id": "319dc92d",
      "metadata": {
        "id": "319dc92d"
      },
      "outputs": [],
      "source": [
        "X = df_1.drop('196', axis=1)\n",
        "print(X.shape)"
      ]
    },
    {
      "cell_type": "code",
      "execution_count": null,
      "id": "bf898784",
      "metadata": {
        "id": "bf898784"
      },
      "outputs": [],
      "source": [
        "X.head()"
      ]
    },
    {
      "cell_type": "code",
      "execution_count": null,
      "id": "a195491e",
      "metadata": {
        "id": "a195491e"
      },
      "outputs": [],
      "source": [
        "X.info()"
      ]
    },
    {
      "cell_type": "code",
      "execution_count": null,
      "id": "51258c68",
      "metadata": {
        "id": "51258c68"
      },
      "outputs": [],
      "source": [
        "X=X.astype(np.int64)"
      ]
    },
    {
      "cell_type": "code",
      "execution_count": null,
      "id": "4c0a7852",
      "metadata": {
        "id": "4c0a7852"
      },
      "outputs": [],
      "source": [
        "X.info()"
      ]
    },
    {
      "cell_type": "code",
      "execution_count": null,
      "id": "d820347e",
      "metadata": {
        "id": "d820347e"
      },
      "outputs": [],
      "source": [
        "type(X)"
      ]
    },
    {
      "cell_type": "code",
      "execution_count": null,
      "id": "06ffb5a7",
      "metadata": {
        "id": "06ffb5a7"
      },
      "outputs": [],
      "source": [
        "X.head()"
      ]
    },
    {
      "cell_type": "code",
      "execution_count": null,
      "id": "4f4e4da4",
      "metadata": {
        "id": "4f4e4da4"
      },
      "outputs": [],
      "source": [
        "type(X.head(1))"
      ]
    },
    {
      "cell_type": "code",
      "execution_count": null,
      "id": "fd222254",
      "metadata": {
        "id": "fd222254"
      },
      "outputs": [],
      "source": [
        "y = df_1['196']\n",
        "type(y)"
      ]
    },
    {
      "cell_type": "code",
      "execution_count": null,
      "id": "9fecf09e",
      "metadata": {
        "id": "9fecf09e"
      },
      "outputs": [],
      "source": [
        "print(y.shape)"
      ]
    },
    {
      "cell_type": "code",
      "execution_count": null,
      "id": "2579506a",
      "metadata": {
        "id": "2579506a"
      },
      "outputs": [],
      "source": [
        "y.unique()"
      ]
    },
    {
      "cell_type": "code",
      "execution_count": null,
      "id": "9c08275a",
      "metadata": {
        "id": "9c08275a"
      },
      "outputs": [],
      "source": [
        "x_array=X. to_numpy()\n",
        "\n",
        "some_digit =x_array[1]"
      ]
    },
    {
      "cell_type": "code",
      "execution_count": null,
      "id": "40fa9009",
      "metadata": {
        "id": "40fa9009"
      },
      "outputs": [],
      "source": [
        "x_array.shape"
      ]
    },
    {
      "cell_type": "code",
      "execution_count": null,
      "id": "556df7af",
      "metadata": {
        "id": "556df7af"
      },
      "outputs": [],
      "source": [
        "some_digit_image = some_digit.reshape(14, 14)\n",
        "print(type(some_digit_image))"
      ]
    },
    {
      "cell_type": "code",
      "execution_count": null,
      "id": "bb32005c",
      "metadata": {
        "id": "bb32005c"
      },
      "outputs": [],
      "source": [
        "plt.imshow(some_digit_image,cmap=\"binary\")\n",
        "plt.axis(\"off\")\n",
        "plt.show()\n"
      ]
    },
    {
      "cell_type": "markdown",
      "source": [
        "# convert categorical feature to numerical\n",
        "we use label encoder to convert the fen values (which are alphabets) to numerical values."
      ],
      "metadata": {
        "id": "81xPzxT9Wriv"
      },
      "id": "81xPzxT9Wriv"
    },
    {
      "cell_type": "code",
      "execution_count": null,
      "id": "5caaea8c",
      "metadata": {
        "id": "5caaea8c"
      },
      "outputs": [],
      "source": [
        "\n",
        "from sklearn.preprocessing import LabelEncoder\n",
        "le = LabelEncoder()\n",
        "label = le.fit_transform(df_1['196'])\n",
        "label\n"
      ]
    },
    {
      "cell_type": "code",
      "execution_count": null,
      "id": "6224617b",
      "metadata": {
        "id": "6224617b"
      },
      "outputs": [],
      "source": [
        "label.shape"
      ]
    },
    {
      "cell_type": "code",
      "execution_count": null,
      "id": "8dfae487",
      "metadata": {
        "id": "8dfae487"
      },
      "outputs": [],
      "source": [
        "import numpy as np\n",
        "y=label\n",
        "\n",
        "y = y.astype(np.uint8)"
      ]
    },
    {
      "cell_type": "code",
      "execution_count": null,
      "id": "9dd30147",
      "metadata": {
        "id": "9dd30147"
      },
      "outputs": [],
      "source": [
        "X_train, X_test, \\\n",
        "y_train, y_test =\\\n",
        "X[:60000], X[60000:], y[:60000], y[60000:]"
      ]
    },
    {
      "cell_type": "code",
      "execution_count": null,
      "id": "8a0f03cd",
      "metadata": {
        "id": "8a0f03cd"
      },
      "outputs": [],
      "source": [
        "from sklearn.linear_model import SGDClassifier\n",
        "sgd_clf = SGDClassifier(random_state=42)\n",
        "sgd_clf.fit(X_train, y_train)"
      ]
    },
    {
      "cell_type": "markdown",
      "source": [
        "now our model is trained and we can give it a sample and take prediction. for example if we give the mode an image rook it will return r. or if we give it knight it will return N ( as k is reserved for king)"
      ],
      "metadata": {
        "id": "E1AW9HR-Y8nv"
      },
      "id": "E1AW9HR-Y8nv"
    },
    {
      "cell_type": "code",
      "execution_count": null,
      "id": "54de9c20",
      "metadata": {
        "id": "54de9c20"
      },
      "outputs": [],
      "source": [
        "print(X.iloc[2])"
      ]
    },
    {
      "cell_type": "code",
      "execution_count": null,
      "id": "2780b82c",
      "metadata": {
        "id": "2780b82c"
      },
      "outputs": [],
      "source": [
        "type(X.loc[2])"
      ]
    },
    {
      "cell_type": "code",
      "execution_count": null,
      "id": "74053e77",
      "metadata": {
        "id": "74053e77"
      },
      "outputs": [],
      "source": [
        "pd.DataFrame(X.loc[0]).T"
      ]
    },
    {
      "cell_type": "code",
      "execution_count": null,
      "id": "2a2f3086",
      "metadata": {
        "id": "2a2f3086"
      },
      "outputs": [],
      "source": [
        "pd.DataFrame(X.loc[0]).T.shape"
      ]
    },
    {
      "cell_type": "code",
      "execution_count": null,
      "id": "9f13be09",
      "metadata": {
        "scrolled": true,
        "id": "9f13be09"
      },
      "outputs": [],
      "source": [
        "# sgd_clf.predict(X.head())\n",
        "sgd_clf.predict(pd.DataFrame(X.loc[1]).T)\n"
      ]
    },
    {
      "cell_type": "code",
      "execution_count": null,
      "id": "d89b94ba",
      "metadata": {
        "id": "d89b94ba"
      },
      "outputs": [],
      "source": [
        "le.inverse_transform(sgd_clf.predict(pd.DataFrame(X.loc[1]).T))"
      ]
    },
    {
      "cell_type": "code",
      "execution_count": null,
      "id": "2b4d72ce",
      "metadata": {
        "id": "2b4d72ce"
      },
      "outputs": [],
      "source": [
        "le.inverse_transform(sgd_clf.predict(X.head()))"
      ]
    },
    {
      "cell_type": "code",
      "execution_count": null,
      "id": "9e0ef980",
      "metadata": {
        "id": "9e0ef980"
      },
      "outputs": [],
      "source": [
        "X.shape"
      ]
    },
    {
      "cell_type": "markdown",
      "source": [
        "# prediction on the main dataset that is related to chess peice detection competition"
      ],
      "metadata": {
        "id": "ZcHOV0s_Zei2"
      },
      "id": "ZcHOV0s_Zei2"
    },
    {
      "cell_type": "code",
      "execution_count": null,
      "id": "13e05cea",
      "metadata": {
        "id": "13e05cea"
      },
      "outputs": [],
      "source": [
        "import cv2\n",
        "import numpy as np\n",
        "import glob\n",
        "import os\n",
        "import re\n",
        "from tqdm import tqdm"
      ]
    },
    {
      "cell_type": "code",
      "execution_count": null,
      "id": "aa12a687",
      "metadata": {
        "id": "aa12a687"
      },
      "outputs": [],
      "source": [
        "#CHESS_BOARD_DIR = glob.glob('train/*.*')\n",
        "# CHESS_BOARD_DIR = glob.glob('test/*.*')\n",
        "CHESS_BOARD_DIR = glob.glob('test/*.*')\n",
        "# CHESS_BOARD_DIR"
      ]
    },
    {
      "cell_type": "code",
      "execution_count": null,
      "id": "38fde3c5",
      "metadata": {
        "id": "38fde3c5"
      },
      "outputs": [],
      "source": [
        "chessBoardImages = dict()\n",
        "chessBoardImages \n",
        "\n",
        "for idx, path in enumerate(CHESS_BOARD_DIR):\n",
        "#     if idx > 1:\n",
        "#         break\n",
        "    \n",
        "    baseName = os.path.basename(path)\n",
        "#     print(baseName)\n",
        "    fileName = re.search('[\\w() -]+?(?=\\.)', baseName).group(0)#جدا کردن نام از پسوند \n",
        "    boardImage = cv2.imread(path)\n",
        "    chessBoardImages[fileName] = boardImage"
      ]
    },
    {
      "cell_type": "code",
      "execution_count": null,
      "id": "cd03a860",
      "metadata": {
        "id": "cd03a860"
      },
      "outputs": [],
      "source": [
        "def chessDetection(boardImage):\n",
        "    image = boardImage\n",
        "    imageG = cv2.cvtColor(image, cv2.COLOR_BGR2GRAY)\n",
        "\n",
        "    points = [5, 19,  20, 34,  35, 49,  50, 64,\n",
        "              64, 78,  79, 93,  94, 108,  109, 123]\n",
        "    all = []\n",
        "    cols = []\n",
        "    \n",
        "    for j in range(0, len(points), 2):\n",
        "        for i in range(0, len(points), 2): \n",
        "\n",
        "            img_small = imageG[points[j]:points[j+1],points[i]:points[i+1]]  \n",
        "            img_big = cv2.resize(img_small, (0, 0), fx=10, fy=10)\n",
        "\n",
        "\n",
        "            img_small_2=img_small.reshape(1,196)\n",
        "\n",
        "            cols.append(le.inverse_transform(sgd_clf.predict(img_small_2))[0])\n",
        "        all.append(cols)\n",
        "        cols=[]\n",
        "        \n",
        "    outt=''\n",
        "    numb=0\n",
        "\n",
        "    for line in all:\n",
        "\n",
        "        for item in line:\n",
        "            if item=='0':\n",
        "                numb+=1\n",
        "            else :\n",
        "                if numb!=0:\n",
        "                    outt+=str(numb)\n",
        "                outt+=item\n",
        "                numb=0\n",
        "        if numb!=0:\n",
        "            outt+=str(numb)\n",
        "        numb=0\n",
        "        outt+='-'\n",
        "    # print(outt[0:-1])\n",
        "    return outt[0:-1]\n",
        "    numb=0"
      ]
    },
    {
      "cell_type": "code",
      "execution_count": null,
      "id": "956992c4",
      "metadata": {
        "id": "956992c4",
        "outputId": "846fdc43-bee1-418b-8ef2-29e6a6d5f186"
      },
      "outputs": [
        {
          "name": "stdout",
          "output_type": "stream",
          "text": [
            "done\n"
          ]
        }
      ],
      "source": [
        "# for boardName in chessBoardImages:\n",
        "#     fen = chessDetection(chessBoardImages[boardName])\n",
        "#     print('detect=> ',fen)\n",
        "#     print('real=>   ', boardName)\n",
        "#     print(fen == boardName)\n",
        "\n",
        "count = 0\n",
        "wrongs=0\n",
        "problem = []\n",
        "\n",
        "f = open(\"predictions2.csv\", \"w\")\n",
        "f.write('image,label')\n",
        "for boardName in chessBoardImages:\n",
        "    fen = chessDetection(chessBoardImages[boardName])\n",
        "    f.write('\\n' + boardName + ',' + fen)\n",
        "    \n",
        "    count += 1\n",
        "#     if fen != boardName:\n",
        "#         wrongs+=1\n",
        "#         print(wrongs)\n",
        "#         problem.append((boardName, fen))\n",
        "#         print('True =',boardName)\n",
        "#         print('False=',fen)\n",
        "#         print('-----')\n",
        "#     else:\n",
        "#         print('True   =',boardName)\n",
        "#         print('predict=',fen)\n",
        "#         print('-----')\n",
        "    \n",
        "f.close()\n",
        "print('done')\n",
        "# print(\"count of images: \", count, \"\\n wrong: \", problem)"
      ]
    },
    {
      "cell_type": "code",
      "execution_count": null,
      "id": "eff66f07",
      "metadata": {
        "id": "eff66f07"
      },
      "outputs": [],
      "source": []
    }
  ],
  "metadata": {
    "kernelspec": {
      "display_name": "Python 3 (ipykernel)",
      "language": "python",
      "name": "python3"
    },
    "language_info": {
      "codemirror_mode": {
        "name": "ipython",
        "version": 3
      },
      "file_extension": ".py",
      "mimetype": "text/x-python",
      "name": "python",
      "nbconvert_exporter": "python",
      "pygments_lexer": "ipython3",
      "version": "3.9.13"
    },
    "colab": {
      "provenance": [],
      "include_colab_link": true
    }
  },
  "nbformat": 4,
  "nbformat_minor": 5
}